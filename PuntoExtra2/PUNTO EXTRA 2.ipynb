{
 "cells": [
  {
   "attachments": {},
   "cell_type": "markdown",
   "metadata": {},
   "source": [
    "## JUAN FRANCISCO CISNEROS\n",
    "# PUNTO EXTRA 2\n",
    "# DADO UNA LISTA DE NUMEROS CALCULAR\n",
    "```\n",
    "SUM(N(N+1)/2)\n",
    "``` "
   ]
  },
  {
   "cell_type": "code",
   "execution_count": 6,
   "metadata": {},
   "outputs": [
    {
     "data": {
      "text/plain": [
       "220.0"
      ]
     },
     "execution_count": 6,
     "metadata": {},
     "output_type": "execute_result"
    }
   ],
   "source": [
    "arr = [1,2,3,4,5,6,7,8,9,10]\n",
    "\n",
    "def sumArr(arr):\n",
    "    sum = 0\n",
    "    for i in range(len(arr)):\n",
    "        sum += (arr[i]*(arr[i]+1))/2\n",
    "    return sum\n",
    "\n",
    "sumArr(arr)\n"
   ]
  },
  {
   "cell_type": "code",
   "execution_count": null,
   "metadata": {},
   "outputs": [],
   "source": [
    ".model small\n",
    ".stack 100h\n",
    "\n",
    ".data\n",
    "    array db 1, 2, 3, 4, 5\n",
    "    n equ 5\n",
    "    result dw ?\n",
    "\n",
    ".code\n",
    "    main proc\n",
    "        mov ax, @data\n",
    "        mov ds, ax\n",
    "\n",
    "        lea si, array ; apuntar si al primer elemento del arreglo\n",
    "        mov cx, n ; establecer cx como el número de elementos del arreglo\n",
    "\n",
    "        xor bx, bx ; establecer bx como el acumulador de la suma\n",
    "\n",
    "        loop_start:\n",
    "            mov al, [si] ; obtener el valor actual del arreglo\n",
    "            mov ah, [si+1] ; se mueve 1 byte más adelante debido a que estamos trabajando con elementos de 2 bytes\n",
    "            mul ah ; multiplicar n por (n+1)\n",
    "            add bx, ax ; agregar el resultado a bx\n",
    "            add si, 2 ; apuntar si al siguiente elemento del arreglo (de 2 bytes)\n",
    "            loop loop_start ; repetir hasta que cx llegue a 0\n",
    "\n",
    "        mov ax, bx ; mover el resultado de la suma a ax\n",
    "        mov bx, n ; mover n a bx\n",
    "        add bx, 1 ; sumar 1 a bx\n",
    "        mul bx ; multiplicar la suma por (n+1)\n",
    "        shr ax, 1 ; dividir el resultado por 2\n",
    "        mov result, ax ; guardar el resultado en la variable result\n",
    "\n",
    "        mov ax, 4c00h\n",
    "        int 21h\n",
    "    main endp\n",
    "end main\n"
   ]
  }
 ],
 "metadata": {
  "kernelspec": {
   "display_name": "base",
   "language": "python",
   "name": "python3"
  },
  "language_info": {
   "codemirror_mode": {
    "name": "ipython",
    "version": 3
   },
   "file_extension": ".py",
   "mimetype": "text/x-python",
   "name": "python",
   "nbconvert_exporter": "python",
   "pygments_lexer": "ipython3",
   "version": "3.9.13"
  },
  "orig_nbformat": 4
 },
 "nbformat": 4,
 "nbformat_minor": 2
}
