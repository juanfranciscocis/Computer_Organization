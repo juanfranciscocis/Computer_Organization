{
 "cells": [
  {
   "cell_type": "code",
   "execution_count": 16,
   "metadata": {},
   "outputs": [],
   "source": [
    "class Connector :\n",
    "    def __init__(self, owner, name, activates=0, monitor=0):\n",
    "        self.value = None\n",
    "        self.owner = owner\n",
    "        self.name  = name\n",
    "        self.monitor  = monitor\n",
    "        self.connects = []\n",
    "        self.activates= activates\n",
    "\n",
    "    def connect(self, inputs):\n",
    "        if not isinstance(inputs, list):\n",
    "            inputs = [inputs]\n",
    "        for input in inputs:\n",
    "            self.connects.append(input)\n",
    "\n",
    "    def set(self, value):\n",
    "        if self.value == value:\n",
    "            return      # Ignore if no change\n",
    "        self.value = value\n",
    "        if self.activates:\n",
    "            self.owner.evaluate()\n",
    "        if self.monitor:\n",
    "            print(\"Connector {0}-{1} set to {2}\".format(self.owner.name,\n",
    "                                                    self.name,\n",
    "                                                    self.value))\n",
    "        for con in self.connects:\n",
    "            con.set(value)"
   ]
  },
  {
   "cell_type": "code",
   "execution_count": 17,
   "metadata": {},
   "outputs": [],
   "source": [
    "class LC:\n",
    "    # Logic Circuits have names and an evaluation function defined in child\n",
    "    # classes. They will also contain a set of inputs and outputs.\n",
    "    def __init__(self, name):\n",
    "        self.name = name\n",
    "\n",
    "    def evaluate(self):\n",
    "        return"
   ]
  },
  {
   "cell_type": "code",
   "execution_count": 18,
   "metadata": {},
   "outputs": [],
   "source": [
    "class Not(LC):         # Inverter. Input A. Output B.\n",
    "    def __init__(self, name):\n",
    "        LC.__init__(self, name)\n",
    "        self.A = Connector(self, 'A', activates=1)\n",
    "        self.B = Connector(self, 'B')\n",
    "\n",
    "    def evaluate(self):\n",
    "        self.B.set(not self.A.value)"
   ]
  },
  {
   "cell_type": "code",
   "execution_count": 19,
   "metadata": {},
   "outputs": [],
   "source": [
    "class Gate2(LC):         # two input gates. Inputs A and B. Output C.\n",
    "    def __init__(self, name):\n",
    "        LC.__init__(self, name)\n",
    "        self.A = Connector(self, 'A', activates=1)\n",
    "        self.B = Connector(self, 'B', activates=1)\n",
    "        self.C = Connector(self, 'C')"
   ]
  },
  {
   "cell_type": "code",
   "execution_count": 20,
   "metadata": {},
   "outputs": [],
   "source": [
    "class And(Gate2):       # two input AND Gate\n",
    "    def __init__(self, name):\n",
    "        Gate2.__init__(self, name)\n",
    "\n",
    "    def evaluate(self):\n",
    "        self.C.set(self.A.value and self.B.value)\n",
    "\n",
    "\n",
    "class Or(Gate2):         # two input OR gate.\n",
    "    def __init__(self, name):\n",
    "        Gate2.__init__(self, name)\n",
    "\n",
    "    def evaluate(self):\n",
    "        self.C.set(self.A.value or self.B.value)"
   ]
  },
  {
   "cell_type": "code",
   "execution_count": 21,
   "metadata": {},
   "outputs": [
    {
     "name": "stdout",
     "output_type": "stream",
     "text": [
      "Connector A1-C set to 1\n"
     ]
    }
   ],
   "source": [
    "\n",
    "a = And('A1')\n",
    "a.C.monitor = 1\n",
    "a.A.set(1)\n",
    "a.B.set(1)\n"
   ]
  },
  {
   "cell_type": "code",
   "execution_count": 22,
   "metadata": {},
   "outputs": [
    {
     "name": "stdout",
     "output_type": "stream",
     "text": [
      "Connector A1-C set to 0\n",
      "Connector N1-B set to True\n"
     ]
    }
   ],
   "source": [
    "n = Not('N1')\n",
    "a.C.connect(n.A)\n",
    "n.B.monitor = 1\n",
    "a.B.set(0)"
   ]
  },
  {
   "cell_type": "code",
   "execution_count": 23,
   "metadata": {},
   "outputs": [],
   "source": [
    "class Xor(Gate2):\n",
    "    def __init__(self, name):\n",
    "        Gate2.__init__(self, name)\n",
    "        self.A1 = And(\"A1\")  # See circuit drawing to follow connections\n",
    "        self.A2 = And(\"A2\")\n",
    "        self.I1 = Not(\"I1\")\n",
    "        self.I2 = Not(\"I2\")\n",
    "        self.O1 = Or(\"O1\")\n",
    "        self.A.connect([self.A1.A, self.I2.A])\n",
    "        self.B.connect([self.I1.A, self.A2.A])\n",
    "        self.I1.B.connect([self.A1.B])\n",
    "        self.I2.B.connect([self.A2.B])\n",
    "        self.A1.C.connect([self.O1.A])\n",
    "        self.A2.C.connect([self.O1.B])\n",
    "        self.O1.C.connect([self.C])"
   ]
  },
  {
   "cell_type": "code",
   "execution_count": 24,
   "metadata": {},
   "outputs": [
    {
     "name": "stdout",
     "output_type": "stream",
     "text": [
      "Connector o1-C set to 0\n"
     ]
    }
   ],
   "source": [
    "o1 = Xor('o1')\n",
    "o1.C.monitor=1\n",
    "o1.A.set(0)\n",
    "o1.B.set(0)\n",
    "\n",
    "\n"
   ]
  },
  {
   "cell_type": "code",
   "execution_count": 25,
   "metadata": {},
   "outputs": [
    {
     "name": "stdout",
     "output_type": "stream",
     "text": [
      "Connector o1-C set to True\n"
     ]
    }
   ],
   "source": [
    "o1.B.set(1)\n"
   ]
  },
  {
   "cell_type": "code",
   "execution_count": 26,
   "metadata": {},
   "outputs": [
    {
     "name": "stdout",
     "output_type": "stream",
     "text": [
      "Connector o1-C set to False\n"
     ]
    }
   ],
   "source": [
    "\n",
    "o1.A.set(1)\n"
   ]
  },
  {
   "cell_type": "code",
   "execution_count": 27,
   "metadata": {},
   "outputs": [],
   "source": [
    "class FullAdder(LC):         # One bit adder, A,B,Cin in. Sum and Cout out\n",
    "    def __init__(self, name):\n",
    "        LC.__init__(self, name)\n",
    "        self.A = Connector(self, 'A', 1, monitor=1)\n",
    "        self.B = Connector(self, 'B', 1, monitor=1)\n",
    "        self.Cin = Connector(self, 'Cin', 1, monitor=1)\n",
    "        self.S = Connector(self, 'S', monitor=1)\n",
    "        self.Cout = Connector(self, 'Cout', monitor=1)\n",
    "        self.H1 = HalfAdder(\"H1\")\n",
    "        self.H2 = HalfAdder(\"H2\")\n",
    "        self.O1 = Or(\"O1\")\n",
    "        self.A.connect([self.H1.A])\n",
    "        self.B.connect([self.H1.B])\n",
    "        self.Cin.connect([self.H2.A])\n",
    "        self.H1.S.connect([self.H2.B])\n",
    "        self.H1.C.connect([self.O1.B])\n",
    "        self.H2.C.connect([self.O1.A])\n",
    "        self.H2.S.connect([self.S])\n",
    "        self.O1.C.connect([self.Cout])"
   ]
  },
  {
   "cell_type": "code",
   "execution_count": 28,
   "metadata": {},
   "outputs": [],
   "source": [
    "class HalfAdder(LC):         # One bit adder, A,B in. Sum and Carry out\n",
    "    def __init__(self, name):\n",
    "        LC.__init__(self, name)\n",
    "        self.A = Connector(self, 'A', 1)\n",
    "        self.B = Connector(self, 'B', 1)\n",
    "        self.S = Connector(self, 'S')\n",
    "        self.C = Connector(self, 'C')\n",
    "        self.X1 = Xor(\"X1\")\n",
    "        self.A1 = And(\"A1\")\n",
    "        self.A.connect([self.X1.A, self.A1.A])\n",
    "        self.B.connect([self.X1.B, self.A1.B])\n",
    "        self.X1.C.connect([self.S])\n",
    "        self.A1.C.connect([self.C])\n",
    "\n",
    "  "
   ]
  },
  {
   "cell_type": "code",
   "execution_count": 29,
   "metadata": {},
   "outputs": [],
   "source": [
    "def bit(x, bit):\n",
    "    return x[bit] == '1'\n",
    "def test4Bit(a, b):    # a, b four char strings like '0110'\n",
    "    F0 = FullAdder(\"F0\")\n",
    "    F1 = FullAdder(\"F1\")\n",
    "    F0.Cout.connect(F1.Cin)\n",
    "    F2 = FullAdder(\"F2\")\n",
    "    F1.Cout.connect(F2.Cin)\n",
    "    F3 = FullAdder(\"F3\")\n",
    "    F2.Cout.connect(F3.Cin)\n",
    "    F0.Cin.set(0)\n",
    "    F0.A.set(bit(a, 3))\n",
    "    F0.B.set(bit(b, 3))  # bits in lists are reversed from natural order\n",
    "    F1.A.set(bit(a, 2))\n",
    "    F1.B.set(bit(b, 2))\n",
    "    F2.A.set(bit(a, 1))\n",
    "    F2.B.set(bit(b, 1))\n",
    "    F3.A.set(bit(a, 0))\n",
    "    F3.B.set(bit(b, 0))\n",
    "    print(\"{0}{1}{2}{3}{4}\".format(F3.Cout.value, F3.S.value,\n",
    "                                    F2.S.value, F1.S.value, F0.S.value))"
   ]
  },
  {
   "cell_type": "code",
   "execution_count": 30,
   "metadata": {},
   "outputs": [
    {
     "name": "stdout",
     "output_type": "stream",
     "text": [
      "Connector F0-Cin set to 0\n",
      "Connector F0-A set to False\n",
      "Connector F0-Cout set to False\n",
      "Connector F1-Cin set to False\n",
      "Connector F0-B set to False\n",
      "Connector F0-S set to False\n",
      "Connector F1-A set to False\n",
      "Connector F1-Cout set to False\n",
      "Connector F2-Cin set to False\n",
      "Connector F1-B set to True\n",
      "Connector F1-S set to True\n",
      "Connector F2-A set to True\n",
      "Connector F2-B set to False\n",
      "Connector F2-S set to True\n",
      "Connector F2-Cout set to False\n",
      "Connector F3-Cin set to False\n",
      "Connector F3-A set to False\n",
      "Connector F3-Cout set to False\n",
      "Connector F3-B set to False\n",
      "Connector F3-S set to False\n",
      "FalseFalseTrueTrueFalse\n"
     ]
    }
   ],
   "source": [
    "test4Bit('0100','0010')"
   ]
  },
  {
   "cell_type": "code",
   "execution_count": null,
   "metadata": {},
   "outputs": [],
   "source": []
  }
 ],
 "metadata": {
  "kernelspec": {
   "display_name": "Python 3",
   "language": "python",
   "name": "python3"
  },
  "language_info": {
   "codemirror_mode": {
    "name": "ipython",
    "version": 3
   },
   "file_extension": ".py",
   "mimetype": "text/x-python",
   "name": "python",
   "nbconvert_exporter": "python",
   "pygments_lexer": "ipython3",
   "version": "3.11.2"
  },
  "orig_nbformat": 4,
  "vscode": {
   "interpreter": {
    "hash": "1a1af0ee75eeea9e2e1ee996c87e7a2b11a0bebd85af04bb136d915cefc0abce"
   }
  }
 },
 "nbformat": 4,
 "nbformat_minor": 2
}
