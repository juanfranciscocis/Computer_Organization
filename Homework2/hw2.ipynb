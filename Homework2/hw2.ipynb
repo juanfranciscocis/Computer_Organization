{
 "cells": [
  {
   "cell_type": "markdown",
   "id": "a2665cc8",
   "metadata": {},
   "source": [
    "## CMP-3004\n",
    "## Computer Organization\n",
    "\n",
    "### Spring 2023"
   ]
  },
  {
   "cell_type": "markdown",
   "id": "df038792",
   "metadata": {},
   "source": [
    "## Homework 2"
   ]
  },
  {
   "attachments": {},
   "cell_type": "markdown",
   "id": "e25c4074",
   "metadata": {},
   "source": [
    "#### JUAN FRANCISCO CISNEROS"
   ]
  },
  {
   "cell_type": "markdown",
   "id": "d7a5493e",
   "metadata": {},
   "source": [
    "### 1. List and briefly define the possible states that define an instruction execution."
   ]
  },
  {
   "cell_type": "markdown",
   "id": "6d39def2",
   "metadata": {},
   "source": [
    "### 2. What types of transfers must a computer’s interconnection structure (e.g., bus) support?"
   ]
  },
  {
   "attachments": {},
   "cell_type": "markdown",
   "id": "f7c2063e",
   "metadata": {},
   "source": [
    "### 3. Consider a hypothetical 32-bit microprocessor having 32-bit instructions composed of two fields: the first byte contains the opcode and the remainder the immediate operand or an operand address.\n",
    "a. What is the maximum directly addressable memory capacity (in bytes)?\n",
    "\n",
    "Given the following:\n",
    "- $N$ bits are used to represent the address of a memory location in this case $N=32$\n",
    "- Address space is equals to $2^N$ bytes\n",
    "\n",
    "Therefore:\n",
    "- Then the maximum directly addressable memory capacity is $2^{32} = 4\\text{GB}$\n",
    "\n",
    "b. Discuss the impact on the system speed if the microprocessor bus has:\n",
    "\n",
    "1. 32-bit local address bus and a 16-bit local data bus, or\n",
    "   \n",
    "- If the microprocessor bus has a 32-bit local address bus and a 16-bit local data bus, the system speed will be limited by the data bus as it can transfer only 16 bits of data at a time. This means that transferring larger data sets will take longer and slow down the system.\n",
    "\n",
    "\n",
    "2. 16-bit local address bus and a 16-bit local data bus.\n",
    "\n",
    "\n",
    "- If the microprocessor bus has a 16-bit local address bus and a 16-bit local data bus, the system speed will be limited by both the address bus and the data bus. This means that the microprocessor can only address a smaller amount of memory at a time, and transferring data will also be slower due to the smaller data bus.\n",
    "\n",
    "We can say that in both cases the system speed will be limited by the data bus as it can transfer only 16 bits of data at a time. This means that transferring larger data sets will take longer and slow down the system.\n",
    "\n",
    "c. How many bits are needed for the program counter and the instruction register?\n",
    "\n",
    "- The program counter would need 32 bits to address the entire memory capacity of the microprocessor, and the instruction register would also need 32 bits to hold the entire instruction. This will be the best case scenario for a 32-bit microprocessor with a 32-bit instruction.\n"
   ]
  },
  {
   "cell_type": "markdown",
   "id": "85a4f601",
   "metadata": {},
   "source": [
    "### 4. A microprocessor is clocked at a rate of 5 GHz.\n",
    "a. How long is a clock cycle?\n",
    "\n",
    "b. What is the duration of a particular type of machine instruction consisting of three clock cycles?"
   ]
  },
  {
   "cell_type": "markdown",
   "id": "02d33e02",
   "metadata": {},
   "source": [
    "### 5. Suppose you wish to run a program P with $7.5 \\times 10^9$ instructions on a 5 GHz machine with a CPI of 0.8.\n",
    "a. What is the expected CPU time?\n",
    "\n",
    "b. When you run P, it takes 3 seconds of wall clock time to complete. What is the percentage of the CPU time P received?"
   ]
  },
  {
   "cell_type": "markdown",
   "id": "18c4b56e",
   "metadata": {},
   "source": [
    "### 6. A nonpipelined processor has a clock rate of 2.5 GHz and an average CPI (cycles per instruction) of 4. An upgrade to the processor introduces a five-stage pipeline. However, due to internal pipeline delays, such as latch delay, the clock rate of the new processor has to be reduced to 2 GHz. What is the speedup achieved for a typical program?"
   ]
  }
 ],
 "metadata": {
  "kernelspec": {
   "display_name": "Python 3",
   "language": "python",
   "name": "python3"
  },
  "language_info": {
   "codemirror_mode": {
    "name": "ipython",
    "version": 3
   },
   "file_extension": ".py",
   "mimetype": "text/x-python",
   "name": "python",
   "nbconvert_exporter": "python",
   "pygments_lexer": "ipython3",
   "version": "3.9.13"
  }
 },
 "nbformat": 4,
 "nbformat_minor": 5
}
