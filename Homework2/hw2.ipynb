{
 "cells": [
  {
   "cell_type": "markdown",
   "id": "a2665cc8",
   "metadata": {},
   "source": [
    "## CMP-3004\n",
    "## Computer Organization\n",
    "\n",
    "### Spring 2023"
   ]
  },
  {
   "cell_type": "markdown",
   "id": "df038792",
   "metadata": {},
   "source": [
    "## Homework 2"
   ]
  },
  {
   "attachments": {},
   "cell_type": "markdown",
   "id": "e25c4074",
   "metadata": {},
   "source": [
    "#### JUAN FRANCISCO CISNEROS"
   ]
  },
  {
   "attachments": {},
   "cell_type": "markdown",
   "id": "d7a5493e",
   "metadata": {},
   "source": [
    "### 1. List and briefly define the possible states that define an instruction execution.\n",
    "\n",
    "The possible states that define an instruction execution are:\n",
    "\n",
    "- Fetch: In this state, the processor retrieves the instruction from the main memory by sending the address of the next instruction to the memory controller. The memory controller then sends the instruction back to the processor, which stores it in the instruction register. Once the instruction is in the instruction register, the program counter is updated to point to the next instruction.\n",
    "\n",
    "- Decode: In this state, the processor decodes the instruction by examining the opcode (operation code) and other bits that specify the operands and addressing mode. The processor may also check the validity of the instruction and detect any errors or exceptions that might occur during the execution of the instruction.\n",
    "  \n",
    "- Evaluate Address: In this state, the processor calculates the memory address of the operands, based on the addressing mode specified in the instruction. For example, if the instruction specifies a direct address mode, the processor uses the operand field to determine the memory location where the data is stored. If the instruction uses an indirect addressing mode, the processor uses the contents of a register to determine the memory location where the data is stored.\n",
    "\n",
    "- Fetch Operands: In this state, the processor retrieves the operands from memory or registers, depending on the addressing mode used in the instruction. The operands are then stored in internal registers or buffers to be used later in the Execute state.\n",
    "\n",
    "\n",
    "- Execute: In this state, the processor performs the operation specified by the opcode, using the operands that were fetched in the previous state. The execution of the operation may involve arithmetic or logical operations, data transfers between registers or memory, or control transfers to other parts of the program.\n",
    "\n",
    "\n",
    "- Store Result: In this state, the processor stores the result of the operation in the appropriate memory location or register. The processor may also update the program counter to point to the next instruction to be executed."
   ]
  },
  {
   "attachments": {},
   "cell_type": "markdown",
   "id": "6d39def2",
   "metadata": {},
   "source": [
    "### 2. What types of transfers must a computer’s interconnection structure (e.g., bus) support?\n",
    "\n",
    "The types of transfers that a computer’s interconnection structure must support are:\n",
    "\n",
    "IN CASE OF A BUS:\n",
    "- Data transfer\n",
    "- Addressing modes\n",
    "- Control transfer\n",
    "\n",
    "OTHERS:\n",
    "- I/O transfer\n",
    "- Interrupt transfer\n",
    "- timing transfer\n",
    "- status transfer\n",
    "\n",
    "All of these transfers are necessary for the computer to function properly."
   ]
  },
  {
   "attachments": {},
   "cell_type": "markdown",
   "id": "f7c2063e",
   "metadata": {},
   "source": [
    "### 3. Consider a hypothetical 32-bit microprocessor having 32-bit instructions composed of two fields: the first byte contains the opcode and the remainder the immediate operand or an operand address.\n",
    "a. What is the maximum directly addressable memory capacity (in bytes)?\n",
    "\n",
    "Given the following:\n",
    "- $N$ bits are used to represent the address of a memory location in this case $N=32$\n",
    "- Address space is equals to $2^N$ bytes\n",
    "\n",
    "Therefore:\n",
    "- Then the maximum directly addressable memory capacity is $2^{32} = 4\\text{GB}$\n",
    "\n",
    "b. Discuss the impact on the system speed if the microprocessor bus has:\n",
    "\n",
    "1. 32-bit local address bus and a 16-bit local data bus, or\n",
    "   \n",
    "- If the microprocessor bus has a 32-bit local address bus and a 16-bit local data bus, the system speed will be limited by the data bus as it can transfer only 16 bits of data at a time. This means that transferring larger data sets will take longer and slow down the system.\n",
    "\n",
    "\n",
    "2. 16-bit local address bus and a 16-bit local data bus.\n",
    "\n",
    "\n",
    "- If the microprocessor bus has a 16-bit local address bus and a 16-bit local data bus, the system speed will be limited by both the address bus and the data bus. This means that the microprocessor can only address a smaller amount of memory at a time, and transferring data will also be slower due to the smaller data bus.\n",
    "\n",
    "We can say that in both cases the system speed will be limited by the data bus as it can transfer only 16 bits of data at a time. This means that transferring larger data sets will take longer and slow down the system.\n",
    "\n",
    "c. How many bits are needed for the program counter and the instruction register?\n",
    "\n",
    "- The program counter would need 32 bits to address the entire memory capacity of the microprocessor, and the instruction register would also need 32 bits to hold the entire instruction. This will be the best case scenario for a 32-bit microprocessor with a 32-bit instruction.\n"
   ]
  },
  {
   "attachments": {},
   "cell_type": "markdown",
   "id": "85a4f601",
   "metadata": {},
   "source": [
    "### 4. A microprocessor is clocked at a rate of 5 GHz.\n",
    "a. How long is a clock cycle?\n",
    "\n",
    "Given the following:\n",
    "The duration of a clock cycle is the reciprocal of the clock rate. Therefore, the duration of a clock cycle is:\n",
    "\n",
    "```1 / 5 GHz = 0.2 ns```\n",
    "\n",
    "\n",
    "Therefore:\n",
    "- A clock cycle is 0.2 nanoseconds long.\n",
    "\n",
    "b. What is the duration of a particular type of machine instruction consisting of three clock cycles?\n",
    "\n",
    "If a particular type of machine instruction consists of three clock cycles, then the duration of the instruction is:\n",
    "\n",
    "``` 3 x 0.2 ns = 0.6 ns ```\n",
    "\n",
    "Therefore:\n",
    "- The duration of the instruction is 0.6 nanoseconds.\n",
    "\n"
   ]
  },
  {
   "attachments": {},
   "cell_type": "markdown",
   "id": "02d33e02",
   "metadata": {},
   "source": [
    "### 5. Suppose you wish to run a program P with $7.5 \\times 10^9$ instructions on a 5 GHz machine with a CPI of 0.8.\n",
    "#### a. What is the expected CPU time?\n",
    "\n",
    "Given the following:\n",
    "- CPU time = Instruction count x CPI / Clock rate\n",
    "\n",
    "Given the instructions: \n",
    "- Count of P is $7.5 \\times 10^9$, the CPI is 0.8, and the clock rate is 5 GHz, we can substitute these values to get:\n",
    "\n",
    "```CPU time = $7.5 \\times 10^9$ x 0.8 / (5 x $10^9$) second =  1.2 seconds```\n",
    "\n",
    "Therefore: \n",
    "- The expected CPU time for program P is 1.2 seconds.\n",
    "\n",
    "#### b. When you run P, it takes 3 seconds of wall clock time to complete. What is the percentage of the CPU time P received?\n",
    "\n",
    "\n",
    "Given the following:\n",
    "\n",
    "- Percentage of CPU time = (CPU time of P / Wall clock time) x 100%\n",
    "\n",
    "Given the instructions:\n",
    "- CPU time of P is 1.2 seconds and the wall clock time is 3 seconds, we can substitute these values to get:\n",
    "\n",
    "```Percentage of CPU time = (1.2 / 3) x 100% = 40% ```\n",
    "\n",
    "Therefore:\n",
    "\n",
    "- The program P received 40% of the CPU time during its execution."
   ]
  },
  {
   "attachments": {},
   "cell_type": "markdown",
   "id": "18c4b56e",
   "metadata": {},
   "source": [
    "### 6. A nonpipelined processor has a clock rate of 2.5 GHz and an average CPI (cycles per instruction) of 4. An upgrade to the processor introduces a five-stage pipeline. However, due to internal pipeline delays, such as latch delay, the clock rate of the new processor has to be reduced to 2 GHz. What is the speedup achieved for a typical program?\n"
   ]
  },
  {
   "attachments": {},
   "cell_type": "markdown",
   "id": "eedb1559",
   "metadata": {},
   "source": [
    "Given the following:\n",
    "\n",
    "- Old Clock Rate: 2.5 GHz\n",
    "- CPI: 4\n",
    "- New Clock Rate: 2 GHz\n",
    "- We seek to find:\n",
    "\n",
    "- ```Speedup = Old Execution Time / New Execution Time```\n",
    "\n",
    "- ```Execution Time: CPI / Old Clock Rate```\n",
    "\n",
    "Therefore:\n",
    "\n",
    "- Old Execution Time = 4 / 2.5 GHz = 1.6 ns\n",
    "\n",
    "- New CPI = Old CPI + 1 (because a pipeline was added)\n",
    "\n",
    "- New CPI = 4 + 1 = 5\n",
    "\n",
    "- New Execution Time = New CPI / New Clock Rate\n",
    "\n",
    "- New Execution Time = 5 / 2 GHz = 2.5 ns\n",
    "\n",
    "The speedup achieved for a typical program is:\n",
    "\n",
    "- Speedup = 1.6 ns / 2.5 ns = 0.64\n"
   ]
  },
  {
   "cell_type": "markdown",
   "id": "4601c1ce",
   "metadata": {},
   "source": []
  }
 ],
 "metadata": {
  "kernelspec": {
   "display_name": "Python 3",
   "language": "python",
   "name": "python3"
  },
  "language_info": {
   "codemirror_mode": {
    "name": "ipython",
    "version": 3
   },
   "file_extension": ".py",
   "mimetype": "text/x-python",
   "name": "python",
   "nbconvert_exporter": "python",
   "pygments_lexer": "ipython3",
   "version": "3.9.13"
  }
 },
 "nbformat": 4,
 "nbformat_minor": 5
}
