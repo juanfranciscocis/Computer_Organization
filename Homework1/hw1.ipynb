{
 "cells": [
  {
   "cell_type": "markdown",
   "id": "a2665cc8",
   "metadata": {},
   "source": [
    "## CMP-3004\n",
    "## Computer Organization\n",
    "\n",
    "### Spring 2023"
   ]
  },
  {
   "cell_type": "markdown",
   "id": "df038792",
   "metadata": {},
   "source": [
    "## Homework 1\n",
    "\n",
    "Please solve the following exercises. If you are using pen and paper, take a picture of your work and upload all your work as a single pdf file to GitHub and submit the link to D2L."
   ]
  },
  {
   "cell_type": "markdown",
   "id": "d1c26e0b",
   "metadata": {},
   "source": [
    "## 1. Transform the following  numbers from one base to another. "
   ]
  },
  {
   "cell_type": "markdown",
   "id": "005afb42",
   "metadata": {},
   "source": [
    "### Decimal to binary\n",
    "\n",
    "- 10\n",
    "- 1369\n",
    "- 9234876\n",
    "- 49263749"
   ]
  },
  {
   "cell_type": "code",
   "execution_count": null,
   "id": "e3b15f54",
   "metadata": {},
   "outputs": [],
   "source": []
  },
  {
   "cell_type": "markdown",
   "id": "1bf15178",
   "metadata": {},
   "source": [
    "### Decimal to binary using 2's complement \n",
    "\n",
    "Use the minimum number of bits required to express the number\n",
    "\n",
    "- -20\n",
    "- -1025\n",
    "- -3925\n",
    "- -104596"
   ]
  },
  {
   "cell_type": "markdown",
   "id": "1ed46384",
   "metadata": {},
   "source": [
    "### Unsigned binary to hex\n",
    "\n",
    "Use the long and the short methods\n",
    "\n",
    "- 1100111101010110011011101101100000101001\n",
    "- 1000011110001110001110001110001111110011\n",
    "- 1010110101011100011001010100101010101010\n",
    "- 1010001010101010101010101011111111000000"
   ]
  },
  {
   "cell_type": "code",
   "execution_count": 3,
   "id": "958ebabf",
   "metadata": {},
   "outputs": [],
   "source": []
  },
  {
   "cell_type": "code",
   "execution_count": 11,
   "id": "b7f5bb56",
   "metadata": {},
   "outputs": [
    {
     "name": "stdout",
     "output_type": "stream",
     "text": [
      "1431328095\n",
      "178916011\n",
      "22364501\n",
      "2795562\n",
      "349445\n",
      "43680\n",
      "5460\n",
      "682\n",
      "85\n",
      "10\n",
      "1\n",
      "0\n"
     ]
    }
   ],
   "source": [
    "n = 11450624760\n",
    "while n > 0:\n",
    "    n = int(n/8)\n",
    "    print(int(n))\n",
    "    "
   ]
  },
  {
   "cell_type": "markdown",
   "id": "6ed3818e",
   "metadata": {},
   "source": [
    "### Signed binary to octal\n",
    "\n",
    "Use the long and short methods\n",
    "\n",
    "- 111111000001111100000001110101011\n",
    "- 010101010101111111111111110000000\n",
    "- 1110001110000001111111100000101010\n",
    "- 1010101010100000101010101011111000"
   ]
  },
  {
   "cell_type": "code",
   "execution_count": 7,
   "id": "2ee10474",
   "metadata": {},
   "outputs": [
    {
     "name": "stdout",
     "output_type": "stream",
     "text": [
      "0\n",
      "1\n",
      "3\n",
      "5\n",
      "7\n",
      "8\n",
      "9\n",
      "17\n",
      "18\n",
      "19\n",
      "20\n",
      "21\n",
      "27\n",
      "28\n",
      "29\n",
      "30\n",
      "31\n",
      "32\n"
     ]
    }
   ],
   "source": [
    "binary = \"1010101010100000101010101011111000\"\n",
    "#lets invert the string\n",
    "binary = binary[::-1]\n",
    "#lets convert the string to a list\n",
    "binary = list(binary)\n",
    "#print the position if the value is 1\n",
    "for i in range(len(binary)):\n",
    "    if binary[i] == '1':\n",
    "        print(i)\n",
    "        \n",
    "    \n",
    "\n"
   ]
  },
  {
   "cell_type": "code",
   "execution_count": null,
   "id": "14328f35",
   "metadata": {},
   "outputs": [],
   "source": [
    "\n"
   ]
  },
  {
   "cell_type": "markdown",
   "id": "510689aa",
   "metadata": {},
   "source": [
    "## 2. Boolean circuits\n",
    "\n",
    "Draw the Boolean circuit and make the truth table for the following:\n",
    "\n",
    "- Multiplication of two binary numbers of length 2 bits\n",
    "- Two's complement for a binary number of length 3 bits"
   ]
  },
  {
   "cell_type": "markdown",
   "id": "ae47d85a",
   "metadata": {},
   "source": [
    "## 3. Do the following multiplications in binary\n",
    "\n",
    "Use the minimum number of bits required\n",
    "\n",
    "- -5 x 8\n",
    "- 11 x (-10)\n",
    "- 2 x 3\n",
    "- (-4) x (-8)\n"
   ]
  }
 ],
 "metadata": {
  "kernelspec": {
   "display_name": "Python 3",
   "language": "python",
   "name": "python3"
  },
  "language_info": {
   "codemirror_mode": {
    "name": "ipython",
    "version": 3
   },
   "file_extension": ".py",
   "mimetype": "text/x-python",
   "name": "python",
   "nbconvert_exporter": "python",
   "pygments_lexer": "ipython3",
   "version": "3.11.2"
  },
  "vscode": {
   "interpreter": {
    "hash": "1a1af0ee75eeea9e2e1ee996c87e7a2b11a0bebd85af04bb136d915cefc0abce"
   }
  }
 },
 "nbformat": 4,
 "nbformat_minor": 5
}
